{
 "cells": [
  {
   "cell_type": "code",
   "execution_count": 3,
   "metadata": {
    "collapsed": true
   },
   "outputs": [],
   "source": [
    "def fn(x):\n",
    "    if x==1 or x==2: \n",
    "        return 1\n",
    "    return fn(x-1) + fn(x-2)\n",
    "x = 1\n",
    "a = []\n",
    "while x < 101: \n",
    "    a.append(fn(x))\n",
    "    x += 1\n",
    "Réponse = (sum(a)) % fn(57)\n",
    "Réponse"
   ]
  }
 ],
 "metadata": {
  "kernelspec": {
   "display_name": "Python [Root]",
   "language": "python",
   "name": "Python [Root]"
  },
  "language_info": {
   "codemirror_mode": {
    "name": "ipython",
    "version": 3
   },
   "file_extension": ".py",
   "mimetype": "text/x-python",
   "name": "python",
   "nbconvert_exporter": "python",
   "pygments_lexer": "ipython3",
   "version": "3.5.2"
  }
 },
 "nbformat": 4,
 "nbformat_minor": 0
}
