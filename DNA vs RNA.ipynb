{
 "cells": [
  {
   "cell_type": "code",
   "execution_count": 49,
   "metadata": {
    "collapsed": false
   },
   "outputs": [
    {
     "data": {
      "text/plain": [
       "(['G', 'G', 'A', 'T', 'G', 'C', 'T', 'T', 'T', 'C'],\n",
       " ['G', 'G', 'A', 'U', 'G', 'C', 'U', 'U', 'U', 'C'])"
      ]
     },
     "execution_count": 49,
     "metadata": {},
     "output_type": "execute_result"
    }
   ],
   "source": [
    "import random\n",
    "a = []\n",
    "for i in range(1000):\n",
    "    a.append(random.choice(['A','C','G','T']))\n",
    "b = []\n",
    "b = a[:]\n",
    "for n,i in enumerate(b):\n",
    "   if i=='T':\n",
    "     b[n]='U' \n",
    "a[0:10], b[0:10]"
   ]
  },
  {
   "cell_type": "code",
   "execution_count": null,
   "metadata": {
    "collapsed": true
   },
   "outputs": [],
   "source": []
  }
 ],
 "metadata": {
  "anaconda-cloud": {},
  "kernelspec": {
   "display_name": "Python [Root]",
   "language": "python",
   "name": "Python [Root]"
  },
  "language_info": {
   "codemirror_mode": {
    "name": "ipython",
    "version": 3
   },
   "file_extension": ".py",
   "mimetype": "text/x-python",
   "name": "python",
   "nbconvert_exporter": "python",
   "pygments_lexer": "ipython3",
   "version": "3.5.2"
  }
 },
 "nbformat": 4,
 "nbformat_minor": 0
}
