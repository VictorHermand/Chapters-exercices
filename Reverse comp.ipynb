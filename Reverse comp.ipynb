{
 "cells": [
  {
   "cell_type": "code",
   "execution_count": 14,
   "metadata": {
    "collapsed": false
   },
   "outputs": [
    {
     "name": "stdout",
     "output_type": "stream",
     "text": [
      "['G', 'G', 'G', 'G', 'A', 'A', 'G', 'T', 'T', 'A'] ['A', 'A', 'G', 'T', 'G', 'T', 'G', 'A', 'T', 'T']\n",
      "['A', 'A', 'T', 'C', 'A', 'C', 'A', 'C', 'T', 'T'] ['T', 'A', 'A', 'C', 'T', 'T', 'C', 'C', 'C', 'C']\n"
     ]
    }
   ],
   "source": [
    "import random\n",
    "a = []\n",
    "for i in range(1000):\n",
    "    a.append(random.choice(['A','C','G','T']))\n",
    "b = []\n",
    "b = a[:]\n",
    "b.reverse()\n",
    "for n,i in enumerate(b):\n",
    "    if i=='T':\n",
    "        b[n]='A' \n",
    "    if i=='A':\n",
    "        b[n]='T' \n",
    "    if i=='G':\n",
    "        b[n]='C' \n",
    "    if i=='C':\n",
    "        b[n]='G' \n",
    "print(a[:10], b[:10])\n",
    "print(a[990:], b[990:])"
   ]
  },
  {
   "cell_type": "code",
   "execution_count": null,
   "metadata": {
    "collapsed": true
   },
   "outputs": [],
   "source": []
  }
 ],
 "metadata": {
  "kernelspec": {
   "display_name": "Python [Root]",
   "language": "python",
   "name": "Python [Root]"
  },
  "language_info": {
   "codemirror_mode": {
    "name": "ipython",
    "version": 3
   },
   "file_extension": ".py",
   "mimetype": "text/x-python",
   "name": "python",
   "nbconvert_exporter": "python",
   "pygments_lexer": "ipython3",
   "version": "3.5.2"
  }
 },
 "nbformat": 4,
 "nbformat_minor": 0
}
